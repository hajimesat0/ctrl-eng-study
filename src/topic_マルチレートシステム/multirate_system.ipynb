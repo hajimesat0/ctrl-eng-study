{
 "cells": [
  {
   "cell_type": "markdown",
   "id": "762ea691",
   "metadata": {
    "tags": []
   },
   "source": [
    "# マルチレートシステム\n",
    "\n",
    "周期の異なる信号が混在するシステムをマルチレートシステムといいます。\n",
    "\n",
    "入力値の更新周期とセンサなどによる観測値の更新周期を比べて以下の2種類のシステムに大別されます。\n",
    "* 入力値更新周期 < 観測値更新周期 ⇒ 入力多重方式\n",
    "* 入力値更新周期 > 観測値更新周期 ⇒ 出力多重方式\n",
    "\n",
    "このうち、画像処理を伴うセンサなどの観測値や低速なシリアル通信を介して取得される観測値を用いるシステムでは、入力値周期に比べて観測値周期が大きくなる傾向にあり、\n",
    "入力多重方式として扱えるシステムに分類されます。\n"
   ]
  },
  {
   "cell_type": "markdown",
   "id": "89d8fc3a-5f9c-4b32-903b-34bda35b1153",
   "metadata": {},
   "source": [
    "[初期値応答](../topic_初期値応答/initial_value_response.ipynb)で用いたシステムを使ってマルチレートシステムを構成し、そのステップ応答を確認します。\n",
    "\n",
    "下記のような状態空間モデルで表現されるシステムを想定します。\n",
    "\n",
    "\\begin{equation*}\n",
    "\\left\\{\n",
    "\\begin{array}{l}\n",
    "\\dot{x} = Ax+Bu \\\\\n",
    "y = Cx+Du\n",
    "\\end{array}\n",
    "\\right.\n",
    "\\end{equation*}\n",
    "\n",
    "$$\n",
    "A = \n",
    "\\left[\n",
    "\\begin{array}{cc}\n",
    "0 & 1 \\\\\n",
    "-1 & -1\n",
    "\\end{array}\n",
    "\\right]\n",
    ",\n",
    "B = \n",
    "\\left[\n",
    "\\begin{array}{c}\n",
    "0 \\\\\n",
    "1\n",
    "\\end{array}\n",
    "\\right]\n",
    ",\n",
    "C = \n",
    "\\left[\n",
    "\\begin{array}{cc}\n",
    "2 & 0\n",
    "\\end{array}\n",
    "\\right]\n",
    ",\n",
    "D = 0\n",
    "$$"
   ]
  },
  {
   "cell_type": "markdown",
   "id": "54ee676a-9e9e-406b-892e-6206c9f667f1",
   "metadata": {},
   "source": [
    "今回はディジタルシステムを前提とする話題なので、入力値更新周期$T_u$でシステムを離散化します。"
   ]
  },
  {
   "cell_type": "markdown",
   "id": "1ed59e1c-c7f2-401a-aa62-1e6292a5f0e2",
   "metadata": {},
   "source": [
    "\\begin{equation*}\n",
    "\\begin{array}{l}\n",
    "x_d[k+1] = A_d x_d[k] + B_d u[k]\n",
    "\\end{array}\n",
    "\\end{equation*}\n",
    "\n",
    "$$\n",
    "A_d = \\exp{ ( A T_u ) }\n",
    ",\n",
    "B_d = \\int ^{T_u} _{0} \\exp{ ( A \\tau ) } B d\\tau , x_d[k] = x(k T_u)\n",
    "$$"
   ]
  },
  {
   "cell_type": "markdown",
   "id": "ba1636e9-8171-423d-b787-39c279d063fd",
   "metadata": {},
   "source": [
    "ここで、このシステムの出力は$M$回に1回しか観測できない入力多重システムとします。\n",
    "入力値更新回数を$k(=0,1,2,\\cdots)$、出力値更新回数を$i(=0,1,2,\\cdots)$とすると、\n",
    "$i$は$k$が$M$回更新されるたびにインクリメントされるので、$j(=0,1,\\cdots,M-1)$を使って\n",
    "$$\n",
    "k = Mi+j\n",
    "$$\n",
    "と表現できます。\n",
    "この関係の上で、出力方程式は以下のように表現されます。\n",
    "$$\n",
    "y[i] = C x_d[Mi]\n",
    "$$\n",
    "これをシミュレーションで示します。"
   ]
  },
  {
   "cell_type": "code",
   "execution_count": 5,
   "id": "3efe3aa0-7751-4320-98e1-7eb636f006ce",
   "metadata": {},
   "outputs": [],
   "source": [
    "%matplotlib inline\n",
    "import matplotlib.pyplot as plt\n",
    "import numpy as np\n",
    "from control.matlab import *\n",
    "sys.path.append('../')\n",
    "from common import ExecutableSSDigSystem"
   ]
  },
  {
   "cell_type": "code",
   "execution_count": 10,
   "id": "47017500-2043-447a-915e-12a979fc88ba",
   "metadata": {},
   "outputs": [
    {
     "name": "stdout",
     "output_type": "stream",
     "text": [
      "状態空間モデル 連続システムの係数\n",
      "A = [[ 0.  1.]\n",
      "     [-1. -1.]]\n",
      "\n",
      "B = [[0.]\n",
      "     [1.]]\n",
      "\n",
      "C = [[2. 0.]]\n",
      "\n",
      "D = [[0.]]\n",
      "\n",
      "状態空間モデル 離散システムの係数\n",
      "A = [[ 9.999995e-01  9.995000e-04]\n",
      "     [-9.995000e-04  9.990000e-01]]\n",
      "\n",
      "B = [[4.9975e-07]\n",
      "     [9.9950e-04]]\n",
      "\n",
      "C = [[1.9999995e+00 9.9950000e-04]]\n",
      "\n",
      "D = [[4.9975e-07]]\n",
      "\n",
      "dt = 0.001\n",
      "\n"
     ]
    }
   ],
   "source": [
    "# シミュレーション環境設定\n",
    "control_cycle = 1e-3\n",
    "simulation_time = 10\n",
    "\n",
    "#  システムの定義\n",
    "A = \"0 1; -1 -1\"\n",
    "B = \"0; 1\"\n",
    "C = \"2 0\"\n",
    "D = \"0\"\n",
    "x0 = [ 1, 0 ]\n",
    "\n",
    "# 状態空間モデルの作成\n",
    "continuous_ss = ss(A,B,C,D)\n",
    "print('状態空間モデル 連続システムの係数')\n",
    "print(continuous_ss)\n",
    "\n",
    "# 離散化\n",
    "digital_ss = c2d(continuous_ss, control_cycle, method='tustin')\n",
    "print('状態空間モデル 離散システムの係数')\n",
    "print(digital_ss)"
   ]
  },
  {
   "cell_type": "code",
   "execution_count": 1,
   "id": "5f1478dc-45f0-4fb9-9d94-c9b929d70b3f",
   "metadata": {},
   "outputs": [
    {
     "ename": "NameError",
     "evalue": "name 'np' is not defined",
     "output_type": "error",
     "traceback": [
      "\u001b[0;31m---------------------------------------------------------------------------\u001b[0m",
      "\u001b[0;31mNameError\u001b[0m                                 Traceback (most recent call last)",
      "\u001b[0;32m/tmp/ipykernel_21/4276787118.py\u001b[0m in \u001b[0;36m<module>\u001b[0;34m\u001b[0m\n\u001b[1;32m      1\u001b[0m \u001b[0;31m#  シミュレーションサンプリング時間リストの作成\u001b[0m\u001b[0;34m\u001b[0m\u001b[0;34m\u001b[0m\u001b[0m\n\u001b[0;32m----> 2\u001b[0;31m \u001b[0mtime\u001b[0m \u001b[0;34m=\u001b[0m \u001b[0mnp\u001b[0m\u001b[0;34m.\u001b[0m\u001b[0marange\u001b[0m\u001b[0;34m(\u001b[0m\u001b[0;36m0\u001b[0m\u001b[0;34m,\u001b[0m\u001b[0;36m10\u001b[0m\u001b[0;34m,\u001b[0m\u001b[0;36m1e-3\u001b[0m\u001b[0;34m)\u001b[0m\u001b[0;34m\u001b[0m\u001b[0;34m\u001b[0m\u001b[0m\n\u001b[0m\u001b[1;32m      3\u001b[0m \u001b[0;34m\u001b[0m\u001b[0m\n",
      "\u001b[0;31mNameError\u001b[0m: name 'np' is not defined"
     ]
    }
   ],
   "source": [
    "#  シミュレーションサンプリング時間リストの作成\n",
    "time = np.arange(0,10,1e-3)\n",
    "\n"
   ]
  },
  {
   "cell_type": "markdown",
   "id": "2a22bfcc-a327-4db0-8189-fc5aa49e9b7e",
   "metadata": {},
   "source": [
    "参考文献：『ナノスケールサーボ制御 高速・高精度に位置を決める技術』(ISBN 978-4-501-11350-6) by 山口高司・平田光男・藤本博志 (敬称略)"
   ]
  },
  {
   "cell_type": "markdown",
   "id": "1aad1ecc-5751-4708-86e2-750b5559389d",
   "metadata": {},
   "source": []
  }
 ],
 "metadata": {
  "interpreter": {
   "hash": "eeb56f19d10856a5e8eff3ecc6cbfeee99e8d4e42c0d474f797a80dbd18232e1"
  },
  "kernelspec": {
   "display_name": "Python 3 (ipykernel)",
   "language": "python",
   "name": "python3"
  },
  "language_info": {
   "codemirror_mode": {
    "name": "ipython",
    "version": 3
   },
   "file_extension": ".py",
   "mimetype": "text/x-python",
   "name": "python",
   "nbconvert_exporter": "python",
   "pygments_lexer": "ipython3",
   "version": "3.9.7"
  }
 },
 "nbformat": 4,
 "nbformat_minor": 5
}
