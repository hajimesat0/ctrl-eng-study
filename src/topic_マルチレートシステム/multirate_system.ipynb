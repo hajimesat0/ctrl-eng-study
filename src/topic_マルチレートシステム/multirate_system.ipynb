{
 "cells": [
  {
   "cell_type": "markdown",
   "id": "762ea691",
   "metadata": {
    "tags": []
   },
   "source": [
    "# マルチレートシステム\n",
    "\n",
    "周期の異なる信号が混在するシステムをマルチレートシステムといいます。\n",
    "\n",
    "入力値の更新周期とセンサなどによる観測値の更新周期を比べて以下の2種類のシステムに大別されます。\n",
    "* 入力値更新周期 < 観測値更新周期 ⇒ 入力多重方式\n",
    "* 入力値更新周期 > 観測値更新周期 ⇒ 出力多重方式\n",
    "\n",
    "このうち、画像処理を伴うセンサなどの観測値や低速なシリアル通信を介して取得される観測値を用いるシステムでは、入力値周期に比べて観測値周期が大きくなる傾向にあり、\n",
    "入力多重方式として扱えるシステムに分類されます。\n"
   ]
  },
  {
   "cell_type": "markdown",
   "id": "89d8fc3a-5f9c-4b32-903b-34bda35b1153",
   "metadata": {},
   "source": [
    "[初期値応答](../topic_初期値応答/initial_value_response.ipynb)で用いたシステムを使ってマルチレートシステムを構成し、そのステップ応答を確認します。\n",
    "\n",
    "下記のような状態空間モデルで表現されるシステムを想定します。\n",
    "\n",
    "\\begin{equation*}\n",
    "\\left\\{\n",
    "\\begin{array}{l}\n",
    "\\dot{x} = Ax+Bu \\\\\n",
    "y = Cx+Du\n",
    "\\end{array}\n",
    "\\right.\n",
    "\\end{equation*}\n",
    "\n",
    "$$\n",
    "A = \n",
    "\\left[\n",
    "\\begin{array}{cc}\n",
    "0 & 1 \\\\\n",
    "-1 & -1\n",
    "\\end{array}\n",
    "\\right]\n",
    ",\n",
    "B = \n",
    "\\left[\n",
    "\\begin{array}{c}\n",
    "0 \\\\\n",
    "1\n",
    "\\end{array}\n",
    "\\right]\n",
    ",\n",
    "C = \n",
    "\\left[\n",
    "\\begin{array}{cc}\n",
    "2 & 0\n",
    "\\end{array}\n",
    "\\right]\n",
    ",\n",
    "D = 0\n",
    "$$"
   ]
  },
  {
   "cell_type": "markdown",
   "id": "54ee676a-9e9e-406b-892e-6206c9f667f1",
   "metadata": {},
   "source": [
    "今回はディジタルシステムを前提とする話題なので、システムを離散化します。"
   ]
  },
  {
   "cell_type": "code",
   "execution_count": 1,
   "id": "3efe3aa0-7751-4320-98e1-7eb636f006ce",
   "metadata": {},
   "outputs": [],
   "source": [
    "%matplotlib inline\n",
    "import matplotlib.pyplot as plt\n",
    "import numpy as np\n",
    "from control.matlab import *"
   ]
  },
  {
   "cell_type": "code",
   "execution_count": 10,
   "id": "47017500-2043-447a-915e-12a979fc88ba",
   "metadata": {},
   "outputs": [
    {
     "name": "stdout",
     "output_type": "stream",
     "text": [
      "状態空間モデル 連続システムの係数\n",
      "A = [[ 0.  1.]\n",
      "     [-1. -1.]]\n",
      "\n",
      "B = [[0.]\n",
      "     [1.]]\n",
      "\n",
      "C = [[2. 0.]]\n",
      "\n",
      "D = [[0.]]\n",
      "\n",
      "状態空間モデル 離散システムの係数\n",
      "A = [[ 9.999995e-01  9.995000e-04]\n",
      "     [-9.995000e-04  9.990000e-01]]\n",
      "\n",
      "B = [[4.9975e-07]\n",
      "     [9.9950e-04]]\n",
      "\n",
      "C = [[1.9999995e+00 9.9950000e-04]]\n",
      "\n",
      "D = [[4.9975e-07]]\n",
      "\n",
      "dt = 0.001\n",
      "\n"
     ]
    }
   ],
   "source": [
    "# シミュレーション環境設定\n",
    "control_cycle = 1e-3\n",
    "simulation_time = 10\n",
    "\n",
    "#  システムの定義\n",
    "A = \"0 1; -1 -1\"\n",
    "B = \"0; 1\"\n",
    "C = \"2 0\"\n",
    "D = \"0\"\n",
    "x0 = [ 1, 0 ]\n",
    "\n",
    "# 状態空間モデルの作成\n",
    "continuous_ss = ss(A,B,C,D)\n",
    "print('状態空間モデル 連続システムの係数')\n",
    "print(continuous_ss)\n",
    "\n",
    "# 離散化\n",
    "digital_ss = c2d(continuous_ss, control_cycle, method='tustin')\n",
    "print('状態空間モデル 離散システムの係数')\n",
    "print(digital_ss)"
   ]
  },
  {
   "cell_type": "markdown",
   "id": "ba1636e9-8171-423d-b787-39c279d063fd",
   "metadata": {},
   "source": []
  }
 ],
 "metadata": {
  "interpreter": {
   "hash": "eeb56f19d10856a5e8eff3ecc6cbfeee99e8d4e42c0d474f797a80dbd18232e1"
  },
  "kernelspec": {
   "display_name": "Python 3 (ipykernel)",
   "language": "python",
   "name": "python3"
  },
  "language_info": {
   "codemirror_mode": {
    "name": "ipython",
    "version": 3
   },
   "file_extension": ".py",
   "mimetype": "text/x-python",
   "name": "python",
   "nbconvert_exporter": "python",
   "pygments_lexer": "ipython3",
   "version": "3.9.7"
  }
 },
 "nbformat": 4,
 "nbformat_minor": 5
}
