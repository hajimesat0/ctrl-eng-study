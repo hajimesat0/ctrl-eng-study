{
 "cells": [
  {
   "cell_type": "markdown",
   "id": "07131010",
   "metadata": {},
   "source": [
    "# 2自由度制御\n",
    "\n",
    "以下のシステムを想定します。"
   ]
  },
  {
   "cell_type": "markdown",
   "id": "e817e5e0",
   "metadata": {},
   "source": [
    "<img src='two_degrees_of_freedom_control_with_d_bd.drawio.svg'>"
   ]
  },
  {
   "cell_type": "markdown",
   "id": "3bdb30ee",
   "metadata": {},
   "source": [
    "入力$r$、$d$と出力$y$の関係は以下のようになります。"
   ]
  },
  {
   "cell_type": "markdown",
   "id": "65d1d14a",
   "metadata": {},
   "source": [
    "\\begin{eqnarray}\n",
    "u_{ff} &=& \\frac{F(s)}{P(s)} r \\\\\n",
    "u_{fb} &=& K(s)( F(s)r - y ) \\\\\n",
    "y &=& P(s)( u_{ff} + u_{fb} + d ) \\\\\n",
    "  &=& F(s) r + \\frac{P(s)}{1+K(s)P(s)}d\n",
    "\\end{eqnarray}"
   ]
  },
  {
   "cell_type": "markdown",
   "id": "6b89fb44",
   "metadata": {},
   "source": [
    "## 目標値応答\n",
    "\n",
    "$d=0$としたときの$r$から$y$への伝達関数が目標値応答となります。\n",
    "$F(s)$目標値応答そのものの動特性となります。\n"
   ]
  },
  {
   "cell_type": "markdown",
   "id": "a9a86f13",
   "metadata": {},
   "source": [
    "## 外乱応答\n",
    "\n",
    "$r=0$としたときの$d$から$y$への伝達関数が外乱応答となります。\n",
    "FB制御器$K(s)$の設計に応じて外乱を抑制することができます。\n"
   ]
  },
  {
   "cell_type": "markdown",
   "id": "0669dcf2",
   "metadata": {},
   "source": [
    "## 補足:低次な制御対象に対するFF補償\n",
    "\n",
    "$P(s)$に以下のような伝達関数のシステムを想定します。\n",
    "\n",
    "\\begin{equation*}\n",
    "P(s) = \\frac{\\omega_0}{s+\\omega_0} \\frac{1}{s}\n",
    "\\end{equation*}\n",
    "\n",
    "また、（欲張って）$F(s)=1$とします。（$F(s)$に相当する計算は目標軌道生成に託し、その結果として$r$が得られているという想定。）\n",
    "\n",
    "すると、コントローラ上へ\n",
    "\n",
    "\\begin{equation*}\n",
    "\\frac{F(s)}{P(s)} = \\frac{s+\\omega_0}{\\omega_0}s = \\frac{s^2}{\\omega_0} + s\n",
    "\\end{equation*}\n",
    "\n",
    "を実装することになります。\n"
   ]
  },
  {
   "cell_type": "markdown",
   "id": "05ce1782",
   "metadata": {},
   "source": [
    "何かと敬遠されがちな微分計算が入っていますが、目標軌道$r$を連続空間で導出している場合は導出時にその微分値$\\dot{r},\\ddot{r}$も併せて（離散化の影響を受けない精度で）導出できる場合があります。\n",
    "\n",
    "仮に$r$に合わせて$\\dot{r},\\ddot{r}$も利用できると仮定すると、\n",
    "\n",
    "\n"
   ]
  },
  {
   "cell_type": "markdown",
   "id": "db3d0176",
   "metadata": {},
   "source": [
    "\\begin{eqnarray}\n",
    "u_{ff} = \\frac{F(s)}{P(s)} r = \\left\\{ \\frac{s^2}{\\omega_0} + s \\right\\} r = \\frac{1}{\\omega_0}\\ddot{r} + \\dot{r}\n",
    "\\end{eqnarray}"
   ]
  },
  {
   "cell_type": "markdown",
   "id": "8ab6e4bf",
   "metadata": {},
   "source": [
    "とすることができます。\n",
    "\n",
    "仮に$r$を位置の目標軌道とすると、その1階微分や2階微分は速度や加速度に相当し、目標軌道として位置・速度・加速度を利用することで2次程度の制御対象であれば制御周期毎の微分処理を実施せずにFF補償の計算が可能になります。"
   ]
  },
  {
   "cell_type": "markdown",
   "id": "19f858fa",
   "metadata": {},
   "source": [
    "\n",
    "## シミュレーション\n",
    "\n",
    "$P(s)$が角周波数$\\omega_0$[rad/s]をカットオフ周波数に持つ1次遅れ系と積分器からなると想定します。\n",
    "\\begin{equation*}\n",
    "P(s) = \\frac{\\omega_0}{s+\\omega_0} \\frac{1}{s}\n",
    "\\end{equation*}\n",
    "\n",
    "$\\omega_0=1$[rad/s]とします。\n",
    "\n",
    "$K(s)$として以下を想定します。(PI制御)\n",
    "\\begin{equation*}\n",
    "K(s) = G_p + \\frac{G_i}{s}\n",
    "\\end{equation*}\n",
    "\n",
    "$G_p=20$[rad/s]、$G_i=5$[rad/s]とします。\n"
   ]
  },
  {
   "cell_type": "markdown",
   "id": "ceb3bf5c",
   "metadata": {},
   "source": [
    "$r$は振幅が10のステップ信号を時定数2[s]の単純移動平均とさらに時定数1[s]の単純移動平均した信号を想定します。\n",
    "\n",
    "$d$は3[s]から振幅-3のステップ信号を想定します。"
   ]
  },
  {
   "cell_type": "markdown",
   "id": "a6a514c2",
   "metadata": {},
   "source": [
    "コントローラへの実装を意識してlsim()を使わずにシミュレーションを実装します。\n",
    "（lsim()使うとy=1\\*rとなるだけなので。）"
   ]
  },
  {
   "cell_type": "code",
   "execution_count": 1,
   "id": "02c14778",
   "metadata": {},
   "outputs": [],
   "source": [
    "%matplotlib inline\n",
    "import matplotlib.pyplot as plt\n",
    "import numpy as np\n",
    "from control.matlab import *"
   ]
  },
  {
   "cell_type": "code",
   "execution_count": 2,
   "id": "926b48b1",
   "metadata": {},
   "outputs": [],
   "source": [
    "class ExecutableSSDigSystem:\n",
    "        \n",
    "    def __init__(self,ss_sys,x0,y0):\n",
    "        self.__x = x0\n",
    "        self.__dx = x0 # 計算の都合上の代入\n",
    "        self.__ss_sys = ss_sys\n",
    "        self.__y = y0\n",
    "    \n",
    "    def execute(self,u):\n",
    "        # 現状態更新\n",
    "        self.__x = self.__dx\n",
    "        \n",
    "        # 次状態計算\n",
    "        self.__dx = self.__ss_sys.A * self.__x + self.__ss_sys.B * u\n",
    "\n",
    "        # 出力計算\n",
    "        self.__y = self.__ss_sys.C * self.__x + self.__ss_sys.D * u\n",
    "        \n",
    "        return (self.__y,self.__x)\n",
    "\n",
    "    def getx(self):\n",
    "        return self.__x\n",
    "    \n",
    "    def setx(self,val):\n",
    "        pass\n",
    "    \n",
    "    def gety(self):\n",
    "        return self.__y\n",
    "    \n",
    "    def sety(self,val):\n",
    "        pass\n",
    "\n",
    "    x = property(getx,setx)\n",
    "    y = property(gety,sety)\n"
   ]
  },
  {
   "cell_type": "code",
   "execution_count": 3,
   "id": "f7003614",
   "metadata": {},
   "outputs": [],
   "source": [
    "# シミュレーション環境設定\n",
    "control_cycle = 1e-3\n",
    "simulation_time = 10\n",
    "\n",
    "# 制御対象設定\n",
    "omega_0 = 1\n",
    "\n",
    "# FB制御器設定\n",
    "G_p = 20\n",
    "G_i = 5\n",
    "\n",
    "# 目標軌道設定\n",
    "start_time = 1\n",
    "amplitude = 10   # 振幅\n",
    "sma1_td = 2       # 移動平均時定数1\n",
    "sma2_td = 1       # 移動平均時定数2\n",
    "\n",
    "# 外乱設定\n",
    "d_start_time = 3\n",
    "d_amplitude = -3\n"
   ]
  },
  {
   "cell_type": "code",
   "execution_count": 4,
   "id": "5ed31b87",
   "metadata": {},
   "outputs": [],
   "source": [
    "# シミュレーション時間リスト生成\n",
    "list_time = np.arange(0,simulation_time,control_cycle)\n",
    "\n",
    "# 制御対象システム生成\n",
    "P_tf_con = tf([omega_0], [1, omega_0, 0])\n",
    "P_ss_con = tf2ss( P_tf_con )\n",
    "P_ss_dig = c2d(P_ss_con, control_cycle, method='tustin')\n",
    "\n",
    "# FB制御器の生成\n",
    "K_tf_con = tf([ G_p, G_i ], [ 1, 0 ])\n",
    "K_ss_con = tf2ss( K_tf_con )\n",
    "K_ss_dig = c2d(K_ss_con, control_cycle, method='tustin')\n",
    "\n",
    "# 目標軌道生成\n",
    "sma1_window_size = int( sma1_td / control_cycle )\n",
    "sma1_window = np.ones(sma1_window_size)/sma1_window_size\n",
    "sma2_window_size = int( sma2_td / control_cycle )\n",
    "sma2_window = np.ones(sma2_window_size)/sma2_window_size\n",
    "step = amplitude * (start_time < list_time)\n",
    "step_sma1 = np.convolve(step,sma1_window,mode=\"full\")\n",
    "step_sma2 = np.convolve(step_sma1,sma2_window,mode=\"full\")\n",
    "dot_step_sma2 = np.diff( step_sma2 )\n",
    "ddot_step_sma2 = np.diff( dot_step_sma2 )\n",
    "list_r = step_sma2[0:len(list_time)]\n",
    "list_dot_r = dot_step_sma2[0:len(list_time)] / control_cycle\n",
    "list_ddot_r = ddot_step_sma2[0:len(list_time)] / control_cycle / control_cycle\n",
    "\n",
    "# 外乱生成\n",
    "list_d = d_amplitude * ( (d_start_time < list_time) )"
   ]
  },
  {
   "cell_type": "code",
   "execution_count": 5,
   "id": "d3d4494e",
   "metadata": {},
   "outputs": [],
   "source": [
    "# 初期化\n",
    "P = ExecutableSSDigSystem(P_ss_dig,np.matrix([[0],[0]]),0)\n",
    "K = ExecutableSSDigSystem(K_ss_dig,np.matrix([[0]]),0)\n",
    "\n",
    "# シミュレーション格納用リスト\n",
    "list_y = np.empty(0)\n",
    "list_u_ff = np.empty(0)\n",
    "list_u_fb = np.empty(0)\n",
    "\n",
    "u_ff = 0\n",
    "u_fb = 0\n",
    "\n",
    "# シミュレーション\n",
    "for (r,dot_r,ddot_r,d) in zip(list_r,list_dot_r,list_ddot_r,list_d):\n",
    "    \n",
    "    # FB制御器の状態・出力更新\n",
    "    # 1周期前のPの出力を使っている\n",
    "    K.execute( r - P.y )\n",
    "    u_fb = K.y\n",
    "    \n",
    "    # 制御対象の状態更新\n",
    "    P.execute( u_fb + d )\n",
    "    \n",
    "    # 結果の格納\n",
    "    list_u_ff = np.append( list_u_ff,u_ff )\n",
    "    list_u_fb = np.append( list_u_fb,u_fb )\n",
    "    list_y = np.append( list_y,P.y )"
   ]
  },
  {
   "cell_type": "code",
   "execution_count": 6,
   "id": "0975f6fa",
   "metadata": {},
   "outputs": [
    {
     "data": {
      "text/plain": [
       "Text(0.5, 1.0, 'disturbant')"
      ]
     },
     "execution_count": 6,
     "metadata": {},
     "output_type": "execute_result"
    },
    {
     "data": {
      "image/png": "[encoded data removed]",
      "text/plain": [
       "<Figure size 432x288 with 1 Axes>"
      ]
     },
     "metadata": {
      "needs_background": "light"
     },
     "output_type": "display_data"
    },
    {
     "data": {
      "image/png": "[encoded data removed]",
      "text/plain": [
       "<Figure size 432x288 with 1 Axes>"
      ]
     },
     "metadata": {
      "needs_background": "light"
     },
     "output_type": "display_data"
    }
   ],
   "source": [
    "plt.figure()\n",
    "plt.plot( list_time, list_r, label=\"r\" )\n",
    "plt.plot( list_time, list_y, label=\"y\" )\n",
    "plt.xlabel(\"time[s]\")\n",
    "plt.legend()\n",
    "plt.grid()\n",
    "plt.title(\"reference and output\")\n",
    "\n",
    "plt.figure()\n",
    "plt.plot( list_time, list_d, label=\"d\" )\n",
    "plt.plot( list_time, list_y - list_r, label=\"y-r\" )\n",
    "plt.plot( list_time, list_u_fb, label=r\"$u_{fb}$\" )\n",
    "plt.xlabel(\"time[s]\")\n",
    "plt.legend()\n",
    "plt.grid()\n",
    "plt.ylim(-4,8)\n",
    "plt.title(\"disturbant\")\n"
   ]
  },
  {
   "cell_type": "code",
   "execution_count": 7,
   "id": "c1325d5f",
   "metadata": {},
   "outputs": [],
   "source": [
    "# 初期化\n",
    "P = ExecutableSSDigSystem(P_ss_dig,np.matrix([[0],[0]]),0)\n",
    "K = ExecutableSSDigSystem(K_ss_dig,np.matrix([[0]]),0)\n",
    "\n",
    "# シミュレーション格納用リスト\n",
    "list_y = np.empty(0)\n",
    "list_u_ff = np.empty(0)\n",
    "list_u_fb = np.empty(0)\n",
    "\n",
    "# シミュレーション\n",
    "for (r,dot_r,ddot_r,d) in zip(list_r,list_dot_r,list_ddot_r,list_d):\n",
    "    \n",
    "    # FF制御器計算\n",
    "    u_ff = ddot_r / omega_0 + dot_r\n",
    "    \n",
    "    # FB制御器の状態・出力更新\n",
    "    # 1周期前のPの出力を使っている\n",
    "    K.execute( r - P.y )\n",
    "    u_fb = K.y\n",
    "    \n",
    "    # 制御対象の状態更新\n",
    "    P.execute( u_ff + u_fb + d )\n",
    "    \n",
    "    # 結果の格納\n",
    "    list_u_ff = np.append( list_u_ff,u_ff )\n",
    "    list_u_fb = np.append( list_u_fb,u_fb )\n",
    "    list_y = np.append( list_y,P.y )\n"
   ]
  },
  {
   "cell_type": "code",
   "execution_count": 8,
   "id": "aa371251",
   "metadata": {},
   "outputs": [
    {
     "data": {
      "text/plain": [
       "Text(0.5, 1.0, 'disturbant')"
      ]
     },
     "execution_count": 8,
     "metadata": {},
     "output_type": "execute_result"
    },
    {
     "data": {
      "image/png": "[encoded data removed]",
      "text/plain": [
       "<Figure size 432x288 with 1 Axes>"
      ]
     },
     "metadata": {
      "needs_background": "light"
     },
     "output_type": "display_data"
    },
    {
     "data": {
      "image/png": "[encoded data removed]",
      "text/plain": [
       "<Figure size 432x288 with 1 Axes>"
      ]
     },
     "metadata": {
      "needs_background": "light"
     },
     "output_type": "display_data"
    }
   ],
   "source": [
    "plt.figure()\n",
    "plt.plot( list_time, list_r, label=\"r\" )\n",
    "plt.plot( list_time, list_y, label=\"y\" )\n",
    "plt.plot( list_time, list_u_ff, label=r\"$u_{ff}$\" )\n",
    "plt.xlabel(\"time[s]\")\n",
    "plt.legend()\n",
    "plt.grid()\n",
    "plt.title(\"reference and output\")\n",
    "\n",
    "plt.figure()\n",
    "plt.plot( list_time, list_d, label=\"d\" )\n",
    "plt.plot( list_time, list_y - list_r, label=\"y-r\" )\n",
    "plt.plot( list_time, list_u_fb, label=r\"$u_{fb}$\" )\n",
    "plt.xlabel(\"time[s]\")\n",
    "plt.legend()\n",
    "plt.grid()\n",
    "plt.title(\"disturbant\")\n"
   ]
  },
  {
   "cell_type": "markdown",
   "id": "9e9f064a",
   "metadata": {},
   "source": [
    "FF制御を実施すると外乱$d$が印加される3[s]までの間、偏差($y-r$)が存在しいないことがわかります。\n",
    "また、3[s]後の応答については、その時点での系の状態が異なることからFF制御の実施有無を表現できているとは言えませんが、おおむね同様の（$y$の定性的な振動周波数や振幅の収束の様子などが大きく異ならない）FB制御の効果が得られています。"
   ]
  }
 ],
 "metadata": {
  "interpreter": {
   "hash": "eeb56f19d10856a5e8eff3ecc6cbfeee99e8d4e42c0d474f797a80dbd18232e1"
  },
  "kernelspec": {
   "display_name": "Python 3 (ipykernel)",
   "language": "python",
   "name": "python3"
  },
  "language_info": {
   "codemirror_mode": {
    "name": "ipython",
    "version": 3
   },
   "file_extension": ".py",
   "mimetype": "text/x-python",
   "name": "python",
   "nbconvert_exporter": "python",
   "pygments_lexer": "ipython3",
   "version": "3.9.7"
  }
 },
 "nbformat": 4,
 "nbformat_minor": 5
}
