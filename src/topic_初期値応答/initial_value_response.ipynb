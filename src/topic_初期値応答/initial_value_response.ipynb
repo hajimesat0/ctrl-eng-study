{
 "cells": [
  {
   "cell_type": "markdown",
   "metadata": {},
   "source": [
    "# 初期値応答\n",
    "\n",
    "## システムの初期値応答を求める\n",
    "\n",
    "下記のような状態空間モデルで表現されるシステムを想定します。\n",
    "\n",
    "\\begin{equation*}\n",
    "\\left\\{\n",
    "\\begin{array}{l}\n",
    "\\dot{x} = Ax+Bu \\\\\n",
    "y = Cx+Du\n",
    "\\end{array}\n",
    "\\right.\n",
    "\\end{equation*}\n",
    "\n",
    "$$\n",
    "A = \n",
    "\\left[\n",
    "\\begin{array}{cc}\n",
    "0 & 1 \\\\\n",
    "-1 & -1\n",
    "\\end{array}\n",
    "\\right]\n",
    ",\n",
    "B = \n",
    "\\left[\n",
    "\\begin{array}{c}\n",
    "0 \\\\\n",
    "1\n",
    "\\end{array}\n",
    "\\right]\n",
    ",\n",
    "C = \n",
    "\\left[\n",
    "\\begin{array}{cc}\n",
    "2 & 0\n",
    "\\end{array}\n",
    "\\right]\n",
    ",\n",
    "D = 0\n",
    "$$\n",
    "\n",
    "\n",
    "\n"
   ]
  },
  {
   "cell_type": "markdown",
   "metadata": {},
   "source": [
    "状態初期値として\n",
    "\n",
    "$$\n",
    "x(0) = \n",
    "\\left[\n",
    "\\begin{array}{c}\n",
    "1 \\\\\n",
    "0\n",
    "\\end{array}\n",
    "\\right]\n",
    "$$\n",
    "\n",
    "を想定し、この初期値に対するシステムの応答を計算します。"
   ]
  },
  {
   "cell_type": "code",
   "execution_count": 4,
   "metadata": {
    "scrolled": false,
    "tags": []
   },
   "outputs": [
    {
     "name": "stdout",
     "output_type": "stream",
     "text": [
      "A = [[ 0.  1.]\n",
      "     [-1. -1.]]\n",
      "\n",
      "B = [[0.]\n",
      "     [1.]]\n",
      "\n",
      "C = [[2. 0.]]\n",
      "\n",
      "D = [[0.]]\n",
      "\n",
      "res_y = [ 2.          1.999999    1.999996   ... -0.00430785 -0.00431866\n",
      " -0.00432945]\n",
      "res_x = [[ 1.00000000e+00  0.00000000e+00]\n",
      " [ 9.99999500e-01 -9.99500000e-04]\n",
      " [ 9.99998001e-01 -1.99800000e-03]\n",
      " ...\n",
      " [-2.15392629e-03 -5.40815715e-03]\n",
      " [-2.15933066e-03 -5.40059614e-03]\n",
      " [-2.16472748e-03 -5.39303730e-03]]\n",
      "res_x[:,0] = [ 1.          0.9999995   0.999998   ... -0.00215393 -0.00215933\n",
      " -0.00216473]\n",
      "res_x[:,1] = [ 0.         -0.0009995  -0.001998   ... -0.00540816 -0.0054006\n",
      " -0.00539304]\n"
     ]
    }
   ],
   "source": [
    "%matplotlib inline\n",
    "import matplotlib.pyplot as plt\n",
    "import numpy as np\n",
    "from control.matlab import *\n",
    "\n",
    "#  システムの定義\n",
    "A = \"0 1; -1 -1\"\n",
    "B = \"0; 1\"\n",
    "C = \"2 0\"\n",
    "D = \"0\"\n",
    "x0 = [ 1, 0 ]\n",
    "\n",
    "\n",
    "#  状態空間モデルの作成\n",
    "sys = ss(A,B,C,D)\n",
    "print(sys)\n",
    "\n",
    "#  シミュレーションサンプリング時間リストの作成\n",
    "time = np.arange(0,10,1e-3)\n",
    "\n",
    "#  シミュレーション\n",
    "res_y, res_t, res_x = lsim(sys,U=0,T=time,X0=x0)\n",
    "print(\"res_y =\",res_y)\n",
    "print(\"res_x =\",res_x)\n",
    "print(\"res_x[:,0] =\",res_x[:,0])\n",
    "print(\"res_x[:,1] =\",res_x[:,1])"
   ]
  },
  {
   "cell_type": "code",
   "execution_count": 17,
   "metadata": {
    "scrolled": true
   },
   "outputs": [
    {
     "data": {
      "image/png": "[encoded data removed]",
      "text/plain": [
       "<Figure size 432x288 with 1 Axes>"
      ]
     },
     "metadata": {
      "needs_background": "light"
     },
     "output_type": "display_data"
    }
   ],
   "source": [
    "plt.plot( time, res_y, label=\"y\" )\n",
    "plt.plot( time, res_x[:,0], label=\"x[0]\" )\n",
    "plt.plot( time, res_x[:,1], label=\"x[1]\" )\n",
    "plt.xlabel(\"time[s]\")\n",
    "plt.legend()\n",
    "plt.grid()"
   ]
  },
  {
   "cell_type": "markdown",
   "metadata": {},
   "source": [
    "## 参考\n",
    "\n",
    "* [【python-control】状態空間モデルの作成](https://algorithm.joho.info/seigyoriron/python-control-state-space-system/)"
   ]
  }
 ],
 "metadata": {
  "kernelspec": {
   "display_name": "Python 3",
   "language": "python",
   "name": "python3"
  },
  "language_info": {
   "codemirror_mode": {
    "name": "ipython",
    "version": 3
   },
   "file_extension": ".py",
   "mimetype": "text/x-python",
   "name": "python",
   "nbconvert_exporter": "python",
   "pygments_lexer": "ipython3",
   "version": "3.9.1"
  }
 },
 "nbformat": 4,
 "nbformat_minor": 5
}
