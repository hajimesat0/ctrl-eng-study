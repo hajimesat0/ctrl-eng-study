{
 "cells": [
  {
   "cell_type": "markdown",
   "id": "e02d8586-d8c0-487d-a689-82aefe56bdce",
   "metadata": {},
   "source": [
    "# n慣性系\n",
    "\n",
    "n個の慣性とその間を接続するバネ・ダンパを想定します。\n",
    "それぞれの慣性体に外力を与えられるよう想定します。"
   ]
  },
  {
   "cell_type": "markdown",
   "id": "ec3b62cd-3a78-4aca-829d-9cf708a79b1e",
   "metadata": {},
   "source": [
    "<img src='n慣性系.drawio.svg'>"
   ]
  },
  {
   "cell_type": "markdown",
   "id": "83b333b3-d6f5-41b8-9b90-1a6cac63ef72",
   "metadata": {},
   "source": [
    "## 運動方程式\n",
    "\n",
    "\\begin{eqnarray}\n",
    "m_{1} \\ddot{x}_{1} &=&  &c_{12} ( \\dot{x}_{2} - \\dot{x}_{1} ) + k_{12} ( x_{2} - x_{1} ) & &                                                                 & & +  u_{1} \\\\\n",
    "m_{2} \\ddot{x}_{2} &=& -&c_{12} ( \\dot{x}_{2} - \\dot{x}_{1} ) - k_{12} ( x_{2} - x_{1} ) & & + c_{23} ( \\dot{x}_{3} - \\dot{x}_{2} ) + k_{23} ( x_{3} - x_{2} ) & & + u_{2}\\\\\n",
    "m_{3} \\ddot{x}_{3} &=&  &                                                              & & - c_{23} ( \\dot{x}_{3} - \\dot{x}_{2} ) - k_{23} ( x_{3} - x_{2} ) & + c_{34} ( \\dot{x}_{4} - \\dot{x}_{3} ) + k_{34} ( x_{4} - x_{3} ) & + u_{3} \\\\\n",
    "\\vdots \\\\\n",
    "m_{k} \\ddot{x}_{k} &=& - & c_{(k-1)k} ( \\dot{x}_{k} - \\dot{x}_{k-1} ) - k_{(k-1)k} ( x_{k} - x_{k-1} ) & & + c_{k(k+1)} ( \\dot{x}_{k+1} - \\dot{x}_{k} ) + k_{k(k+1)} ( x_{k+1} - x_{k} ) & + u_{k}\\\\\n",
    "\\vdots \\\\\n",
    "m_{n} \\ddot{x}_{n} &=& - & c_{(n-1)n} ( \\dot{x}_{n} - \\dot{x}_{n-1} ) - k_{(n-1)n} ( x_{n} - x_{n-1} ) & & + u_{n}\\\\\n",
    "\\end{eqnarray}"
   ]
  },
  {
   "cell_type": "markdown",
   "id": "eb03fb46-d783-469d-be63-ff890aaac68f",
   "metadata": {},
   "source": [
    "## 状態方程式\n",
    "\n",
    "$$\n",
    "x=\n",
    "\\left[\n",
    "\\begin{array}{c}\n",
    "x_{1} \\\\\n",
    "x_{2} \\\\\n",
    "\\vdots \\\\\n",
    "x_{k} \\\\\n",
    "\\vdots \\\\\n",
    "x_{n} \\\\ \\hline\n",
    "\\dot{x}_{1} \\\\\n",
    "\\dot{x}_{2} \\\\\n",
    "\\vdots \\\\\n",
    "\\dot{x}_{k} \\\\\n",
    "\\vdots \\\\\n",
    "\\dot{x}_{n}\n",
    "\\end{array}\n",
    "\\right]\n",
    "$$\n",
    "\n",
    "とおく。"
   ]
  },
  {
   "cell_type": "markdown",
   "id": "e8daf72b-3680-4c98-b543-91c12a631c16",
   "metadata": {},
   "source": [
    "$$\n",
    "\\left[\n",
    "\\begin{array}{ccccccccccc|ccccccccccc}\n",
    "-k_{12} & k_{12} & 0 & \\cdots & \\cdots & \\cdots & \\cdots & \\cdots & \\cdots & \\cdots & 0 & -c_{12} & c_{12} & 0 & \\cdots & \\cdots & \\cdots & \\cdots & \\cdots & \\cdots & \\cdots & 0 \\\\ \n",
    "\\vdots \\\\\n",
    "0 & \\cdots & \\cdots & \\cdots & 0 & k_{(k-1)k} & -( k_{(k-1)k} + k_{k(k+1)} ) & k_{k(k+1)} & 0 & \\cdots & 0 & 0 & \\cdots & \\cdots & \\cdots & 0 & c_{(k-1)k} & -( c_{(k-1)k} + c_{k(k+1)} ) & c_{k(k+1)} & 0 & \\cdots & 0 \\\\\n",
    "\\vdots \\\\\n",
    "0 & \\cdots & \\cdots & \\cdots & \\cdots & \\cdots & \\cdots & \\cdots & 0 & k_{(n-1)n} & -k_{(n-1)n} & 0 & \\cdots & \\cdots & \\cdots & \\cdots & \\cdots & \\cdots & \\cdots & 0 & c_{(n-1)n} & -c_{(n-1)n} \\\\\n",
    "\\end{array}\n",
    "\\right]\n",
    "$$"
   ]
  }
 ],
 "metadata": {
  "kernelspec": {
   "display_name": "Python 3 (ipykernel)",
   "language": "python",
   "name": "python3"
  },
  "language_info": {
   "codemirror_mode": {
    "name": "ipython",
    "version": 3
   },
   "file_extension": ".py",
   "mimetype": "text/x-python",
   "name": "python",
   "nbconvert_exporter": "python",
   "pygments_lexer": "ipython3",
   "version": "3.9.7"
  }
 },
 "nbformat": 4,
 "nbformat_minor": 5
}
