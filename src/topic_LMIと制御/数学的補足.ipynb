{
 "cells": [
  {
   "cell_type": "markdown",
   "id": "c2b255ca-e17d-4302-ab70-3cc3ea759ac2",
   "metadata": {},
   "source": [
    "# 数学的補足"
   ]
  },
  {
   "cell_type": "markdown",
   "id": "e483c729-091b-48e7-a08d-319a2afba093",
   "metadata": {},
   "source": [
    "* トレース\n",
    "* フロベニウスノルム\n",
    "* 正定行列\n",
    "* 合同変換\n",
    "* Shurの補題"
   ]
  }
 ],
 "metadata": {
  "kernelspec": {
   "display_name": "Python 3 (ipykernel)",
   "language": "python",
   "name": "python3"
  },
  "language_info": {
   "codemirror_mode": {
    "name": "ipython",
    "version": 3
   },
   "file_extension": ".py",
   "mimetype": "text/x-python",
   "name": "python",
   "nbconvert_exporter": "python",
   "pygments_lexer": "ipython3",
   "version": "3.9.7"
  }
 },
 "nbformat": 4,
 "nbformat_minor": 5
}
