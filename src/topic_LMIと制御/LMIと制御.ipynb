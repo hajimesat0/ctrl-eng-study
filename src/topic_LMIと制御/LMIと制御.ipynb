{
 "cells": [
  {
   "cell_type": "markdown",
   "id": "7a8227d1-3b6a-43dd-a079-3f988c945b50",
   "metadata": {
    "tags": []
   },
   "source": [
    "# LMIと制御\n",
    "\n",
    "## LMIとは\n",
    "\n",
    "## 正定とは\n",
    "\n",
    "## SDPとは\n",
    "\n",
    "## LMIに基づく制御系解析と設計のうれしさ\n",
    "* 与えられたシステムが複数の条件を満たすことを解析できる\n",
    "* 様々な条件を連立してANDで満たす制御器を統一的な方法(SDPを解くこと)で設計できる\n",
    "  * 例えば、閉ループ系の極の範囲に制約条件を課しながら、評価関数Jを最小化するような制御器設計などが可能となる。\n",
    "  * Riccati方程式を解いて最適状態FBゲインを求め、閉ループ極を確認するtry&errorを繰り返す必要がない。\n",
    "  * ほかにも様々な条件を連立させて数値解析的に制御器を設計することができる。\n",
    "* SDPを現実的な時間で解くアルゴリズムが存在する。(内点法)\n",
    "\n",
    "## 詳細\n",
    "\n",
    "* リアプノフ不等式\n",
    "* LMIによる極領域の表現\n",
    "* LMIによる状態FB系の性能解析\n",
    "* LMIに基づく最適制御FBゲインの設計\n",
    "* 多目的制御\n",
    "* ロバスト制御\n",
    "* 拘束系の制御\n",
    "* ゲインスケジューリング\n",
    "\n",
    "**参考文献**\n",
    "\n",
    "* [倒立振子で学ぶ制御工学](https://www.amazon.co.jp/%E5%80%92%E7%AB%8B%E6%8C%AF%E5%AD%90%E3%81%A7%E5%AD%A6%E3%81%B6%E5%88%B6%E5%BE%A1%E5%B7%A5%E5%AD%A6-%E5%B7%9D%E7%94%B0-%E6%98%8C%E5%85%8B/dp/4627792212)\n",
    "\n",
    "* [LMIによるシステム制御](https://www.amazon.co.jp/LMI%E3%81%AB%E3%82%88%E3%82%8B%E3%82%B7%E3%82%B9%E3%83%86%E3%83%A0%E5%88%B6%E5%BE%A1-%E3%83%AD%E3%83%90%E3%82%B9%E3%83%88%E5%88%B6%E5%BE%A1%E7%B3%BB%E8%A8%AD%E8%A8%88%E3%81%AE%E3%81%9F%E3%82%81%E3%81%AE%E4%BD%93%E7%B3%BB%E7%9A%84%E3%82%A2%E3%83%97%E3%83%AD%E3%83%BC%E3%83%81-%E8%9B%AF%E5%8E%9F%E7%BE%A9%E9%9B%84/dp/4627921012)\n",
    "\n",
    "\n",
    "\n",
    "\n",
    "\n",
    "\n",
    "\n"
   ]
  }
 ],
 "metadata": {
  "kernelspec": {
   "display_name": "Python 3 (ipykernel)",
   "language": "python",
   "name": "python3"
  },
  "language_info": {
   "codemirror_mode": {
    "name": "ipython",
    "version": 3
   },
   "file_extension": ".py",
   "mimetype": "text/x-python",
   "name": "python",
   "nbconvert_exporter": "python",
   "pygments_lexer": "ipython3",
   "version": "3.9.7"
  }
 },
 "nbformat": 4,
 "nbformat_minor": 5
}
