{
 "cells": [
  {
   "cell_type": "markdown",
   "id": "7a8227d1-3b6a-43dd-a079-3f988c945b50",
   "metadata": {},
   "source": [
    "# LMIと制御\n",
    "\n",
    "* LMIに基づく制御設計の例\n",
    "\n",
    "**参考文献**\n",
    "\n",
    "* [倒立振子で学ぶ制御工学](https://www.amazon.co.jp/%E5%80%92%E7%AB%8B%E6%8C%AF%E5%AD%90%E3%81%A7%E5%AD%A6%E3%81%B6%E5%88%B6%E5%BE%A1%E5%B7%A5%E5%AD%A6-%E5%B7%9D%E7%94%B0-%E6%98%8C%E5%85%8B/dp/4627792212)\n",
    "\n",
    "## LMIとは\n",
    "\n",
    "* 正定性\n",
    "* LMI\n",
    "* リアプノフ安定とは\n",
    "\n",
    "## 多目的制御\n",
    "\n",
    "## 最適制御\n",
    "\n",
    "## ロバスト制御\n",
    "\n",
    "## 拘束系の制御\n",
    "\n",
    "## ゲインスケジューリング\n",
    "\n",
    "\n",
    "\n",
    "\n",
    "\n",
    "\n"
   ]
  }
 ],
 "metadata": {
  "kernelspec": {
   "display_name": "Python 3 (ipykernel)",
   "language": "python",
   "name": "python3"
  },
  "language_info": {
   "codemirror_mode": {
    "name": "ipython",
    "version": 3
   },
   "file_extension": ".py",
   "mimetype": "text/x-python",
   "name": "python",
   "nbconvert_exporter": "python",
   "pygments_lexer": "ipython3",
   "version": "3.9.7"
  }
 },
 "nbformat": 4,
 "nbformat_minor": 5
}
