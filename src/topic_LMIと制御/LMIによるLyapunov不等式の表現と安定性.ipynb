{
 "cells": [
  {
   "cell_type": "markdown",
   "id": "add99b63-7775-4af2-bd4a-1a5a2d01958d",
   "metadata": {},
   "source": [
    "# LMIによるLyapunov不等式の表現と安定性\n",
    "\n",
    "\n"
   ]
  },
  {
   "cell_type": "markdown",
   "id": "b988f31d-5802-4742-804a-3ac8b0376d4f",
   "metadata": {},
   "source": [
    "## Lyapunov不等式と安定性\n",
    "\n",
    "次式で表される線形時不変システムを考える。\n",
    "\n",
    "$$\n",
    "\\begin{array}{l}\n",
    "\\dot{x} = Ax\n",
    "\\end{array}\n",
    ", A \\in \\mathbb{R} ^{n \\times n}, x(0) = x_0\n",
    "$$\n"
   ]
  },
  {
   "cell_type": "markdown",
   "id": "5e91cd41-95e1-496f-9bb3-82a5c3069d0f",
   "metadata": {},
   "source": [
    "$P \\in \\mathbb{R} ^{n \\times n} , P \\succ 0$を用いて状態ベクトル$x(t)$に関するスカラ値関数\n",
    "$$\n",
    "V_P(x(t)) := x(t)^T P x(t)\n",
    "$$\n",
    "を導入する。\n",
    "ここで、$P \\succ 0$より、$V_P(x(t)) > 0$である。"
   ]
  },
  {
   "cell_type": "markdown",
   "id": "a7a150cc-1791-4d85-bf89-aa5ac0fa27ae",
   "metadata": {},
   "source": [
    "$t \\rightarrow \\infty$の時、$V_P(x(t))$が**単調減少するのであれば**、$V_P(x(t)) > 0$であることも考慮すると、\n",
    "$V_P(x(t)) \\rightarrow 0$へ収束する。\n",
    "この時システム$\\dot{x} = Ax$は安定。\n",
    "\n",
    "これを数式で表すと\n",
    "\n",
    "$$\n",
    "\\frac{d}{dt}V_P(x(t))<0\n",
    "$$"
   ]
  },
  {
   "cell_type": "markdown",
   "id": "6d118910-bfe6-4e25-94d1-312dd21c3448",
   "metadata": {},
   "source": [
    "$ V_P(x(t)) := x(t)^T P x(t) $を代入すると\n",
    "$$\n",
    "\\begin{eqnarray}\n",
    "\\frac{d}{dt}V_P(x(t)) &=& \\frac{d}{dt}x(t)^T P x(t)\\\\\n",
    "&=& \\dot x(t)^T P x(t) + x(t)^T P \\dot x(t) \\\\\n",
    "&=& (Ax)^T P x(t) + x(t)^T P Ax \\\\\n",
    "&=& x^T A^T P x(t) + x(t)^T P Ax \\\\\n",
    "&=& x^T ( A^T P + P A ) x \\\\\n",
    "&<& 0\n",
    "\\end{eqnarray}\n",
    "$$"
   ]
  },
  {
   "cell_type": "markdown",
   "id": "a4aceab4-4a65-464b-8a7d-f5792ac2694c",
   "metadata": {},
   "source": [
    "最後の2行は\n",
    "$$\n",
    "A^T P + PA \\prec 0\n",
    "$$\n",
    "を示している。"
   ]
  },
  {
   "cell_type": "markdown",
   "id": "a7f1fb60-48db-4882-9058-5e8f6316c7a9",
   "metadata": {},
   "source": [
    "この不等式を**Liapunov不等式**と呼び、本式が成立する($A^T P + PA$が負定)場合、システム$\\dot{x} = Ax$は安定である。"
   ]
  },
  {
   "cell_type": "code",
   "execution_count": 1,
   "id": "9d9813f3-35d1-4ce6-a559-bcd6dc4322cc",
   "metadata": {},
   "outputs": [],
   "source": [
    "%matplotlib inline\n",
    "import matplotlib.pyplot as plt\n",
    "import numpy as np\n",
    "from control.matlab import *"
   ]
  },
  {
   "cell_type": "code",
   "execution_count": 10,
   "id": "bf05993b-b27e-4846-b4cb-b6a858d43317",
   "metadata": {},
   "outputs": [],
   "source": [
    "A = [[0,1],[-1,-1]]\n",
    "eig_A = np.linalg.eig(A)\n",
    "eig_value_A = eig_A[0]\n",
    "eig_vector_A = eig_A[1]"
   ]
  },
  {
   "cell_type": "code",
   "execution_count": 12,
   "id": "ccb3c0aa-d834-49e7-8f9f-60f8daa29bdf",
   "metadata": {},
   "outputs": [
    {
     "name": "stdout",
     "output_type": "stream",
     "text": [
      "[-0.5+0.8660254j -0.5-0.8660254j]\n",
      "[[ 0.70710678+0.j          0.70710678-0.j        ]\n",
      " [-0.35355339+0.61237244j -0.35355339-0.61237244j]]\n"
     ]
    }
   ],
   "source": [
    "print(eig_value_A)\n",
    "print(eig_vector_A)\n"
   ]
  }
 ],
 "metadata": {
  "kernelspec": {
   "display_name": "Python 3 (ipykernel)",
   "language": "python",
   "name": "python3"
  },
  "language_info": {
   "codemirror_mode": {
    "name": "ipython",
    "version": 3
   },
   "file_extension": ".py",
   "mimetype": "text/x-python",
   "name": "python",
   "nbconvert_exporter": "python",
   "pygments_lexer": "ipython3",
   "version": "3.9.7"
  }
 },
 "nbformat": 4,
 "nbformat_minor": 5
}
